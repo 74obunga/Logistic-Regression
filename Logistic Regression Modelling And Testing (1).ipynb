{
 "cells": [
  {
   "cell_type": "code",
   "execution_count": 2,
   "id": "2921b4f8",
   "metadata": {},
   "outputs": [],
   "source": [
    "#Basics\n",
    "import pandas as pd\n",
    "import numpy as np\n",
    "\n",
    "#Visualization\n",
    "import matplotlib.pyplot as plot\n",
    "import seaborn as sns\n",
    "import matplotlib.pyplot as plt\n",
    "\n",
    "#SKLearn ML\n",
    "from sklearn.linear_model import LogisticRegression\n",
    "from sklearn.model_selection import train_test_split\n",
    "from sklearn.metrics import plot_confusion_matrix, confusion_matrix\n",
    "from sklearn.preprocessing import StandardScaler\n"
   ]
  },
  {
   "cell_type": "code",
   "execution_count": 3,
   "id": "335aaf9d",
   "metadata": {},
   "outputs": [],
   "source": [
    "#loading data\n",
    "social_Network_A = pd.read_csv(r\"C:\\Users\\USER\\Downloads\\Course Files - Classification\\2 - Logistic Regression\\Social_Network_Ads.csv\")\n"
   ]
  },
  {
   "cell_type": "code",
   "execution_count": 4,
   "id": "3b65a30b",
   "metadata": {},
   "outputs": [
    {
     "data": {
      "text/html": [
       "<div>\n",
       "<style scoped>\n",
       "    .dataframe tbody tr th:only-of-type {\n",
       "        vertical-align: middle;\n",
       "    }\n",
       "\n",
       "    .dataframe tbody tr th {\n",
       "        vertical-align: top;\n",
       "    }\n",
       "\n",
       "    .dataframe thead th {\n",
       "        text-align: right;\n",
       "    }\n",
       "</style>\n",
       "<table border=\"1\" class=\"dataframe\">\n",
       "  <thead>\n",
       "    <tr style=\"text-align: right;\">\n",
       "      <th></th>\n",
       "      <th>User ID</th>\n",
       "      <th>Female</th>\n",
       "      <th>Age</th>\n",
       "      <th>EstimatedSalary</th>\n",
       "      <th>Purchased</th>\n",
       "    </tr>\n",
       "  </thead>\n",
       "  <tbody>\n",
       "    <tr>\n",
       "      <th>0</th>\n",
       "      <td>15624510</td>\n",
       "      <td>0</td>\n",
       "      <td>19</td>\n",
       "      <td>19000</td>\n",
       "      <td>0</td>\n",
       "    </tr>\n",
       "    <tr>\n",
       "      <th>1</th>\n",
       "      <td>15810944</td>\n",
       "      <td>0</td>\n",
       "      <td>35</td>\n",
       "      <td>20000</td>\n",
       "      <td>0</td>\n",
       "    </tr>\n",
       "    <tr>\n",
       "      <th>2</th>\n",
       "      <td>15668575</td>\n",
       "      <td>1</td>\n",
       "      <td>26</td>\n",
       "      <td>43000</td>\n",
       "      <td>0</td>\n",
       "    </tr>\n",
       "    <tr>\n",
       "      <th>3</th>\n",
       "      <td>15603246</td>\n",
       "      <td>1</td>\n",
       "      <td>27</td>\n",
       "      <td>57000</td>\n",
       "      <td>0</td>\n",
       "    </tr>\n",
       "    <tr>\n",
       "      <th>4</th>\n",
       "      <td>15804002</td>\n",
       "      <td>0</td>\n",
       "      <td>19</td>\n",
       "      <td>76000</td>\n",
       "      <td>0</td>\n",
       "    </tr>\n",
       "    <tr>\n",
       "      <th>...</th>\n",
       "      <td>...</td>\n",
       "      <td>...</td>\n",
       "      <td>...</td>\n",
       "      <td>...</td>\n",
       "      <td>...</td>\n",
       "    </tr>\n",
       "    <tr>\n",
       "      <th>395</th>\n",
       "      <td>15691863</td>\n",
       "      <td>1</td>\n",
       "      <td>46</td>\n",
       "      <td>41000</td>\n",
       "      <td>1</td>\n",
       "    </tr>\n",
       "    <tr>\n",
       "      <th>396</th>\n",
       "      <td>15706071</td>\n",
       "      <td>0</td>\n",
       "      <td>51</td>\n",
       "      <td>23000</td>\n",
       "      <td>1</td>\n",
       "    </tr>\n",
       "    <tr>\n",
       "      <th>397</th>\n",
       "      <td>15654296</td>\n",
       "      <td>1</td>\n",
       "      <td>50</td>\n",
       "      <td>20000</td>\n",
       "      <td>1</td>\n",
       "    </tr>\n",
       "    <tr>\n",
       "      <th>398</th>\n",
       "      <td>15755018</td>\n",
       "      <td>0</td>\n",
       "      <td>36</td>\n",
       "      <td>33000</td>\n",
       "      <td>0</td>\n",
       "    </tr>\n",
       "    <tr>\n",
       "      <th>399</th>\n",
       "      <td>15594041</td>\n",
       "      <td>1</td>\n",
       "      <td>49</td>\n",
       "      <td>36000</td>\n",
       "      <td>1</td>\n",
       "    </tr>\n",
       "  </tbody>\n",
       "</table>\n",
       "<p>400 rows × 5 columns</p>\n",
       "</div>"
      ],
      "text/plain": [
       "      User ID  Female  Age  EstimatedSalary  Purchased\n",
       "0    15624510       0   19            19000          0\n",
       "1    15810944       0   35            20000          0\n",
       "2    15668575       1   26            43000          0\n",
       "3    15603246       1   27            57000          0\n",
       "4    15804002       0   19            76000          0\n",
       "..        ...     ...  ...              ...        ...\n",
       "395  15691863       1   46            41000          1\n",
       "396  15706071       0   51            23000          1\n",
       "397  15654296       1   50            20000          1\n",
       "398  15755018       0   36            33000          0\n",
       "399  15594041       1   49            36000          1\n",
       "\n",
       "[400 rows x 5 columns]"
      ]
     },
     "execution_count": 4,
     "metadata": {},
     "output_type": "execute_result"
    }
   ],
   "source": [
    "#Display the loaded data\n",
    "social_Network_A"
   ]
  },
  {
   "cell_type": "markdown",
   "id": "841dd8a9",
   "metadata": {},
   "source": [
    "# Exploring The Dataset\n",
    "Our dataset has five columns, Customer ID, Gender, Age, Estimated Salary, Purchased or not."
   ]
  },
  {
   "cell_type": "markdown",
   "id": "a1c098b5",
   "metadata": {},
   "source": [
    "# Histogram\n",
    "We plot the Histogram showing the ditribution of people across age for both male and female"
   ]
  },
  {
   "cell_type": "code",
   "execution_count": 6,
   "id": "90ea879d",
   "metadata": {},
   "outputs": [
    {
     "data": {
      "image/png": "[encoded data removed]",
      "text/plain": [
       "<Figure size 404.125x360 with 1 Axes>"
      ]
     },
     "metadata": {
      "needs_background": "light"
     },
     "output_type": "display_data"
    }
   ],
   "source": [
    "#We plot a histogram of count per age_range with one series per gender. \n",
    "social_Network_A_bins = social_Network_A[social_Network_A.Age.notna()]\n",
    "\n",
    "bins = list(range(0,120,10))\n",
    "social_Network_A_bins['age_range'] = pd.cut(social_Network_A.Age, bins=bins)\n",
    "chart = sns.catplot(x = \"age_range\", kind = \"count\", hue = \"Female\", data = social_Network_A_bins);\n",
    "for axes in chart.axes.flat:\n",
    "    axes.set_xticklabels(axes.get_xticklabels(), rotation = 90)"
   ]
  },
  {
   "cell_type": "markdown",
   "id": "ef0a9700",
   "metadata": {},
   "source": [
    "# Using Sklearn\n",
    "We will use Sklearn for fitting our first Logistic model. We will split our daframe into the following.                    \n",
    "\n",
    " 1.Single column for targert variable (technically a series).\n",
    " 2.Remaining columns for the inputs(since there are multiple columns this is a dtaframe)"
   ]
  },
  {
   "cell_type": "code",
   "execution_count": 7,
   "id": "e552649b",
   "metadata": {},
   "outputs": [],
   "source": [
    "x_inputs = social_Network_A[['Female', 'Age', 'EstimatedSalary']]\n",
    "y_target = social_Network_A.Purchased"
   ]
  },
  {
   "cell_type": "markdown",
   "id": "172c967d",
   "metadata": {},
   "source": [
    "# Splitting the data Into training and test sets.\n",
    "Generally it's good practice in machine learning  to split the dataset into training and test sets to evaluate how well our model does when trained on a set of data."
   ]
  },
  {
   "cell_type": "code",
   "execution_count": 8,
   "id": "9d6e80ff",
   "metadata": {},
   "outputs": [],
   "source": [
    "#split the data into training and test sets using the function.\n",
    "x_train, x_test, y_train, y_test = train_test_split(x_inputs, y_target, train_size=0.8)"
   ]
  },
  {
   "cell_type": "markdown",
   "id": "f6c36182",
   "metadata": {},
   "source": [
    "# Preprocessing step (scaling our data)\n",
    "Before we fit the logistic regression, we should standardize each input feature, so that all inputs appear on a similar scale and the model is not weighted towards a feature with higher unit values. This will transform our data to have a mean of 0 and std of 1.\n",
    "We will use StandardScaler() from sklearn.\n"
   ]
  },
  {
   "cell_type": "code",
   "execution_count": 9,
   "id": "65ffa84b",
   "metadata": {},
   "outputs": [],
   "source": [
    "x_train = StandardScaler().fit_transform(x_train)"
   ]
  },
  {
   "cell_type": "code",
   "execution_count": 10,
   "id": "d73ce6c9",
   "metadata": {},
   "outputs": [],
   "source": [
    "x_test = StandardScaler().fit_transform(x_test)"
   ]
  },
  {
   "cell_type": "markdown",
   "id": "eeeb38b4",
   "metadata": {},
   "source": [
    "# Fitting The Model And Evaluating the results\n",
    "We declare the model using LogisticRegression() and fit it to our training datasest and labels."
   ]
  },
  {
   "cell_type": "code",
   "execution_count": 11,
   "id": "0f0551f2",
   "metadata": {},
   "outputs": [],
   "source": [
    "#Logistic regression classifier\n",
    "classifier = LogisticRegression(max_iter = 1000).fit(x_train, y_train)"
   ]
  },
  {
   "cell_type": "markdown",
   "id": "6cf93b14",
   "metadata": {},
   "source": [
    "We can use the score() method as our first way of understanding how good our model is. The model works by returning the mean accuracy of the give test."
   ]
  },
  {
   "cell_type": "code",
   "execution_count": 13,
   "id": "16098866",
   "metadata": {},
   "outputs": [
    {
     "name": "stdout",
     "output_type": "stream",
     "text": [
      "0.834375\n",
      "0.875\n"
     ]
    }
   ],
   "source": [
    "#how well does our classifier use x to predict y, on both training ad testing data.\n",
    "print(classifier.score(x_train, y_train))\n",
    "print(classifier.score(x_test, y_test))"
   ]
  },
  {
   "cell_type": "markdown",
   "id": "36a38f9f",
   "metadata": {},
   "source": [
    "Lets view what the model is predicting"
   ]
  },
  {
   "cell_type": "code",
   "execution_count": 14,
   "id": "23ffdf2f",
   "metadata": {},
   "outputs": [
    {
     "data": {
      "text/plain": [
       "array([0, 0, 1, 1, 0, 0, 0, 0, 0, 0, 0, 0, 1, 1, 1, 0, 0, 0, 0, 0, 0, 1,\n",
       "       0, 0, 1, 1, 0, 0, 0, 0, 1, 0, 1, 0, 1, 1, 0, 1, 1, 0, 1, 0, 0, 1,\n",
       "       1, 0, 0, 0, 0, 0, 0, 0, 0, 0, 0, 0, 1, 1, 0, 0, 1, 0, 1, 1, 0, 0,\n",
       "       0, 0, 1, 0, 0, 0, 0, 0, 0, 0, 1, 1, 1, 0], dtype=int64)"
      ]
     },
     "execution_count": 14,
     "metadata": {},
     "output_type": "execute_result"
    }
   ],
   "source": [
    "#make prediction on test data\n",
    "predictions = classifier.predict(x_test)\n",
    "predictions"
   ]
  },
  {
   "cell_type": "markdown",
   "id": "2d940bb2",
   "metadata": {},
   "source": [
    "The score here evaluates the performance of the model, by default, the classifier uses accuracy as the score. It is the ratio of number of correct predictions to the total predictions.\n",
    "It is essentially the fraction of predictions the model got right. It works well with balanced class, hence it is essential to have a quick look\n",
    "at distribution of cass as done above.\n",
    "\n",
    "These four outcomes can also be depicted in form of confusion matrix, which is the visual representation of how many times these \n",
    "outcomes occured for our model's predictions."
   ]
  },
  {
   "cell_type": "code",
   "execution_count": 15,
   "id": "23c4d240",
   "metadata": {},
   "outputs": [
    {
     "name": "stderr",
     "output_type": "stream",
     "text": [
      "C:\\Users\\USER\\anaconda3\\lib\\site-packages\\sklearn\\utils\\deprecation.py:87: FutureWarning: Function plot_confusion_matrix is deprecated; Function `plot_confusion_matrix` is deprecated in 1.0 and will be removed in 1.2. Use one of the class methods: ConfusionMatrixDisplay.from_predictions or ConfusionMatrixDisplay.from_estimator.\n",
      "  warnings.warn(msg, category=FutureWarning)\n"
     ]
    },
    {
     "data": {
      "text/plain": [
       "<sklearn.metrics._plot.confusion_matrix.ConfusionMatrixDisplay at 0x228f27dc160>"
      ]
     },
     "execution_count": 15,
     "metadata": {},
     "output_type": "execute_result"
    },
    {
     "data": {
      "image/png": "[encoded data removed]",
      "text/plain": [
       "<Figure size 432x288 with 2 Axes>"
      ]
     },
     "metadata": {
      "needs_background": "light"
     },
     "output_type": "display_data"
    }
   ],
   "source": [
    "plot_confusion_matrix(classifier, x_train, y_train)"
   ]
  },
  {
   "cell_type": "markdown",
   "id": "64b4f3d4",
   "metadata": {},
   "source": [
    "The output shows that 70 people actually bought as predicted, the true positives.\n",
    "However, 14 people didn't buy yet we predicted that they would buy. In othe words false positives."
   ]
  },
  {
   "cell_type": "code",
   "execution_count": null,
   "id": "55bd018b",
   "metadata": {},
   "outputs": [],
   "source": []
  }
 ],
 "metadata": {
  "kernelspec": {
   "display_name": "Python 3 (ipykernel)",
   "language": "python",
   "name": "python3"
  },
  "language_info": {
   "codemirror_mode": {
    "name": "ipython",
    "version": 3
   },
   "file_extension": ".py",
   "mimetype": "text/x-python",
   "name": "python",
   "nbconvert_exporter": "python",
   "pygments_lexer": "ipython3",
   "version": "3.9.12"
  }
 },
 "nbformat": 4,
 "nbformat_minor": 5
}
